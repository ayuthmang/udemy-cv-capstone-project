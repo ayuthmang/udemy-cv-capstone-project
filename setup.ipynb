{
 "cells": [
  {
   "cell_type": "code",
   "execution_count": 2,
   "id": "603cace7",
   "metadata": {},
   "outputs": [],
   "source": [
    "import cv2\n",
    "import numpy as numpy\n",
    "from sklearn.metrics import pairwise"
   ]
  },
  {
   "cell_type": "code",
   "execution_count": null,
   "id": "e7506417",
   "metadata": {},
   "outputs": [],
   "source": [
    "background = None\n",
    "accumulated_weight = 0.5\n",
    "\n",
    "roi_top = 20\n",
    "roi_bottom = 300\n",
    "roi_right = 300\n",
    "roi_left = 600"
   ]
  },
  {
   "cell_type": "code",
   "execution_count": null,
   "id": "0f04c645",
   "metadata": {},
   "outputs": [],
   "source": [
    "def cal_accum_avg(frame, accumulated_weight):\n",
    "  global background\n",
    "\n",
    "  if background is None:\n",
    "    background = frame.copy().astype(\"float\")\n",
    "    return None\n",
    "\n",
    "  cv2.accumulateWeighted(frame, background, accumulated_weight)"
   ]
  },
  {
   "cell_type": "code",
   "execution_count": null,
   "id": "56c45c09",
   "metadata": {},
   "outputs": [],
   "source": [
    "def segment(frame, threshold_min=25):\n",
    "  diff = cv2.absdiff(background.astype('unit8'), frame)\n",
    "  ret, thresholded = cv2.threshold(diff, threshold_min, 255, cv2.THRESH_BINARY)\n",
    "  image, countours, hierarchy = cv2.findContours(thresholded.copy(), cv2.RETR_EXTERNAL, cv2.CHAIN_APPROX_SIMPLE)\n",
    "\n",
    "  if len(countours) == 0:\n",
    "    return None\n",
    "  else:\n",
    "    # Assuming the largest external contour in ROI is the hand\n",
    "    hand_segment = max(countours, key=cv2.contourArea)\n",
    "    return (thresholded, hand_segment)"
   ]
  }
 ],
 "metadata": {
  "kernelspec": {
   "display_name": "base",
   "language": "python",
   "name": "python3"
  },
  "language_info": {
   "codemirror_mode": {
    "name": "ipython",
    "version": 3
   },
   "file_extension": ".py",
   "mimetype": "text/x-python",
   "name": "python",
   "nbconvert_exporter": "python",
   "pygments_lexer": "ipython3",
   "version": "3.12.11"
  }
 },
 "nbformat": 4,
 "nbformat_minor": 5
}
